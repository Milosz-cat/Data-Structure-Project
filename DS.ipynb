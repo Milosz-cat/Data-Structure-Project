{
  "nbformat": 4,
  "nbformat_minor": 0,
  "metadata": {
    "colab": {
      "provenance": [],
      "toc_visible": true,
      "authorship_tag": "ABX9TyNeYvxKwD2rEPz5E+sWSNR7",
      "include_colab_link": true
    },
    "kernelspec": {
      "name": "python3",
      "display_name": "Python 3"
    },
    "language_info": {
      "name": "python"
    }
  },
  "cells": [
    {
      "cell_type": "markdown",
      "metadata": {
        "id": "view-in-github",
        "colab_type": "text"
      },
      "source": [
        "<a href=\"https://colab.research.google.com/github/Milosz-cat/Data-Structure-Project/blob/main/DS.ipynb\" target=\"_parent\"><img src=\"https://colab.research.google.com/assets/colab-badge.svg\" alt=\"Open In Colab\"/></a>"
      ]
    },
    {
      "cell_type": "code",
      "execution_count": null,
      "metadata": {
        "id": "lcHi_JlEMZBq"
      },
      "outputs": [],
      "source": [
        "import numpy as np\n",
        "import tensorflow as tf\n",
        "from tensorflow import keras\n",
        "from tensorflow.keras import layers\n",
        "from tensorflow.keras.utils import to_categorical\n",
        "\n",
        "# Wczytanie zbioru danych CIFAR-10 z biblioteki Keras\n",
        "(x_train, y_train), (x_test, y_test) = keras.datasets.cifar10.load_data()\n"
      ]
    },
    {
      "cell_type": "code",
      "source": [
        "import h5py\n",
        "\n",
        "with h5py.File('cifar10.h5', 'w') as f:\n",
        "    # Tworzenie grupy dla danych treningowych\n",
        "    grp_train = f.create_group(\"train\")\n",
        "    # Tworzenie zbiorów dla danych treningowych\n",
        "    dset_X_train = grp_train.create_dataset(\"x\", data=x_train, compression=\"gzip\", compression_opts=9)\n",
        "    dset_y_train = grp_train.create_dataset(\"y\", data=y_train, compression=\"gzip\", compression_opts=9)\n",
        "\n",
        "    # Tworzenie grupy dla danych testowych\n",
        "    grp_test = f.create_group(\"test\")\n",
        "    # Tworzenie zbiorów dla danych testowych\n",
        "    dset_X_test = grp_test.create_dataset(\"x\", data=x_test, compression=\"gzip\", compression_opts=9)\n",
        "    dset_y_test = grp_test.create_dataset(\"y\", data=y_test, compression=\"gzip\", compression_opts=9)\n"
      ],
      "metadata": {
        "id": "SiIH3LqWW9VB"
      },
      "execution_count": null,
      "outputs": []
    },
    {
      "cell_type": "code",
      "source": [
        "import h5py\n",
        "\n",
        "with h5py.File('cifar10.h5', 'r') as f:\n",
        "    # Wczytywanie danych treningowych\n",
        "    x_train = f['train']['x'][:]\n",
        "    y_train = f['train']['y'][:]\n",
        "    \n",
        "    # Wczytywanie danych testowych\n",
        "    x_test = f['test']['x'][:]\n",
        "    y_test = f['test']['y'][:]"
      ],
      "metadata": {
        "id": "9T80CZbWXxPc"
      },
      "execution_count": null,
      "outputs": []
    },
    {
      "cell_type": "code",
      "source": [
        "# # Przekształcenie obrazów z CIFAR-10 na obrazy binarne\n",
        "# threshold = 0.5\n",
        "# x_train_binary = np.where(x_train > threshold, 1, 0)\n",
        "# x_test_binary = np.where(x_test > threshold, 1, 0)\n",
        "\n",
        "# # Zapisanie obrazów binarnych do plików binarnych\n",
        "# with open('x_train_binary.bin', 'wb') as f:\n",
        "#     x_train_binary.tofile(f)\n",
        "    \n",
        "# with open('x_test_binary.bin', 'wb') as f:\n",
        "#     x_test_binary.tofile(f)\n",
        "\n",
        "\n",
        "# # Wczytanie danych treningowych z pliku binarnego\n",
        "# x_train_binary = np.fromfile('x_train_binary.bin', dtype=np.uint8)\n",
        "# x_train_binary = x_train_binary.reshape(-1, 32, 32, 3)\n",
        "\n",
        "# # Wczytanie danych testowych z pliku binarnego\n",
        "# x_test_binary = np.fromfile('x_test_binary.bin', dtype=np.uint8)\n",
        "# x_test_binary = x_test_binary.reshape(-1, 32, 32, 3)"
      ],
      "metadata": {
        "id": "hVzmt5SSaKv5"
      },
      "execution_count": null,
      "outputs": []
    },
    {
      "cell_type": "code",
      "source": [
        "#towrzenie macierzy binarnej\n",
        "y_train = to_categorical(y_train, num_classes=10)\n",
        "y_test = to_categorical(y_test, num_classes=10)\n",
        "\n",
        "# Konwersja koloru obrazów z RGB na grayscale\n",
        "x_train_gray = tf.image.rgb_to_grayscale(x_train)\n",
        "x_test_gray = tf.image.rgb_to_grayscale(x_test)\n",
        "\n",
        "# Normalizacja wartości pikseli do zakresu [0, 1]\n",
        "x_train = x_train.astype(\"float32\") / 255.0\n",
        "x_test = x_test.astype(\"float32\") / 255.0"
      ],
      "metadata": {
        "id": "cw0rnytvNMRm"
      },
      "execution_count": null,
      "outputs": []
    },
    {
      "cell_type": "code",
      "source": [
        "# Definicja modelu konwolucyjnego\n",
        "model = keras.Sequential(\n",
        "    [\n",
        "        layers.Conv2D(32, (3, 3), activation=\"relu\", input_shape=(32, 32, 3)),\n",
        "        layers.MaxPooling2D(pool_size=(2, 2)),\n",
        "        layers.Conv2D(64, (3, 3), activation=\"relu\"),\n",
        "        layers.MaxPooling2D(pool_size=(2, 2)),\n",
        "        layers.Conv2D(128, (3, 3), activation=\"relu\"),\n",
        "        layers.Flatten(),\n",
        "        layers.Dense(128, activation=\"relu\"),\n",
        "        layers.Dense(10, activation=\"softmax\"),\n",
        "    ]\n",
        ")"
      ],
      "metadata": {
        "id": "YJT9xTdYNOqF"
      },
      "execution_count": null,
      "outputs": []
    },
    {
      "cell_type": "code",
      "source": [
        "model.compile(loss=\"categorical_crossentropy\", optimizer=\"adam\", metrics=[\"accuracy\"])\n",
        "\n",
        "\n",
        "# Trenowanie modelu na danych treningowych\n",
        "model.fit(tf.constant(x_train), y_train, batch_size=32, epochs=10, validation_data=(tf.constant(x_test), y_test))\n"
      ],
      "metadata": {
        "colab": {
          "base_uri": "https://localhost:8080/"
        },
        "id": "bx2bBsl2NQyy",
        "outputId": "acdfb9b1-1c10-4948-b888-3f790284c1a0"
      },
      "execution_count": null,
      "outputs": [
        {
          "output_type": "stream",
          "name": "stdout",
          "text": [
            "Epoch 1/10\n",
            "1563/1563 [==============================] - 95s 60ms/step - loss: 1.4520 - accuracy: 0.4721 - val_loss: 1.2571 - val_accuracy: 0.5614\n",
            "Epoch 2/10\n",
            "1563/1563 [==============================] - 96s 62ms/step - loss: 1.0631 - accuracy: 0.6240 - val_loss: 1.0443 - val_accuracy: 0.6320\n",
            "Epoch 3/10\n",
            "1563/1563 [==============================] - 92s 59ms/step - loss: 0.9065 - accuracy: 0.6834 - val_loss: 0.8934 - val_accuracy: 0.6876\n",
            "Epoch 4/10\n",
            "1563/1563 [==============================] - 91s 58ms/step - loss: 0.7983 - accuracy: 0.7195 - val_loss: 0.8660 - val_accuracy: 0.7021\n",
            "Epoch 5/10\n",
            "1563/1563 [==============================] - 96s 61ms/step - loss: 0.7049 - accuracy: 0.7529 - val_loss: 0.8449 - val_accuracy: 0.7127\n",
            "Epoch 6/10\n",
            "1563/1563 [==============================] - 91s 58ms/step - loss: 0.6290 - accuracy: 0.7781 - val_loss: 0.8576 - val_accuracy: 0.7078\n",
            "Epoch 7/10\n",
            "1563/1563 [==============================] - 91s 58ms/step - loss: 0.5659 - accuracy: 0.8012 - val_loss: 0.8389 - val_accuracy: 0.7208\n",
            "Epoch 8/10\n",
            "1563/1563 [==============================] - 91s 58ms/step - loss: 0.4974 - accuracy: 0.8237 - val_loss: 0.8975 - val_accuracy: 0.7179\n",
            "Epoch 9/10\n",
            "1563/1563 [==============================] - 91s 58ms/step - loss: 0.4457 - accuracy: 0.8408 - val_loss: 0.9090 - val_accuracy: 0.7235\n",
            "Epoch 10/10\n",
            "1563/1563 [==============================] - 90s 58ms/step - loss: 0.3871 - accuracy: 0.8617 - val_loss: 0.9504 - val_accuracy: 0.7118\n"
          ]
        },
        {
          "output_type": "execute_result",
          "data": {
            "text/plain": [
              "<keras.callbacks.History at 0x7fad98cea2b0>"
            ]
          },
          "metadata": {},
          "execution_count": 56
        }
      ]
    },
    {
      "cell_type": "code",
      "source": [
        "import matplotlib.pyplot as plt\n",
        "\n",
        "# Predykcja na pojedynczym obrazie\n",
        "image = x_test[17]\n",
        "prediction = model.predict(np.expand_dims(image, axis=0))\n",
        "predicted_label = np.argmax(prediction[0])\n",
        "class_probabilities = tf.nn.softmax(prediction[0])\n",
        "\n",
        "# Wydrukowanie procentowych wartości predykcji dla każdej klasy\n",
        "class_names = [\"samolot\", \"samochód\", \"ptak\", \"kot\", \"jeleń\", \"pies\", \"żaba\", \"koń\", \"statek\", \"ciężarówka\"]\n",
        "for i in range(len(class_names)):\n",
        "    class_name = class_names[i]\n",
        "    class_prob = class_probabilities[i] * 100\n",
        "    print(f\"{class_name}: {class_prob:.2f}%\")\n",
        "\n",
        "# Wyświetlenie obrazu i jego etykiety\n",
        "\n",
        "print(f\"Predykcja dla obrazu: {class_names[predicted_label]}\")\n",
        "plt.imshow(x_test[17], cmap='gray')\n",
        "plt.axis(\"off\")\n",
        "plt.show()"
      ],
      "metadata": {
        "colab": {
          "base_uri": "https://localhost:8080/",
          "height": 663
        },
        "id": "zc713WkbOG9H",
        "outputId": "c38c393d-34e8-423b-d90d-bc12fdc30d6e"
      },
      "execution_count": null,
      "outputs": [
        {
          "output_type": "stream",
          "name": "stderr",
          "text": [
            "WARNING:tensorflow:5 out of the last 12 calls to <function Model.make_predict_function.<locals>.predict_function at 0x7fad994b4820> triggered tf.function retracing. Tracing is expensive and the excessive number of tracings could be due to (1) creating @tf.function repeatedly in a loop, (2) passing tensors with different shapes, (3) passing Python objects instead of tensors. For (1), please define your @tf.function outside of the loop. For (2), @tf.function has reduce_retracing=True option that can avoid unnecessary retracing. For (3), please refer to https://www.tensorflow.org/guide/function#controlling_retracing and https://www.tensorflow.org/api_docs/python/tf/function for  more details.\n"
          ]
        },
        {
          "output_type": "stream",
          "name": "stdout",
          "text": [
            "1/1 [==============================] - 0s 326ms/step\n",
            "samolot: 8.87%\n",
            "samochód: 8.87%\n",
            "ptak: 8.88%\n",
            "kot: 8.93%\n",
            "jeleń: 14.08%\n",
            "pies: 9.08%\n",
            "żaba: 8.87%\n",
            "koń: 14.69%\n",
            "statek: 8.87%\n",
            "ciężarówka: 8.87%\n",
            "Predykcja dla obrazu: koń\n"
          ]
        },
        {
          "output_type": "display_data",
          "data": {
            "text/plain": [
              "<Figure size 640x480 with 1 Axes>"
            ],
            "image/png": "[encoded data removed]"
          },
          "metadata": {}
        }
      ]
    }
  ]
}